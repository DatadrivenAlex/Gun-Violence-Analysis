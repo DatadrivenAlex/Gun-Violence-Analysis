{
 "cells": [
  {
   "cell_type": "markdown",
   "id": "655483b8",
   "metadata": {},
   "source": [
    "# 🎯 Achievement 6.2 – Exploratory Visual Analysis\n",
    "**Dataset:** Gun Violence in the U.S.\n",
    "\n",
    "Author: Alexandru Cojocari\n",
    "\n",
    "This notebook explores relationships within the cleaned gun violence dataset. Time series and mapping will be handled in later tasks."
   ]
  },
  {
   "cell_type": "code",
   "execution_count": null,
   "id": "2f16a007",
   "metadata": {},
   "outputs": [],
   "source": [
    "import pandas as pd\n",
    "import seaborn as sns\n",
    "import matplotlib.pyplot as plt\n",
    "import numpy as np\n",
    "%matplotlib inline"
   ]
  },
  {
   "cell_type": "code",
   "execution_count": null,
   "id": "3986bf01",
   "metadata": {},
   "outputs": [],
   "source": [
    "# Load the cleaned data\n",
    "df = pd.read_csv('cleaned_gunviolence.csv')\n",
    "df = df.drop(columns=['incident_id', 'date'])\n",
    "df.head()"
   ]
  },
  {
   "cell_type": "code",
   "execution_count": null,
   "id": "14583d76",
   "metadata": {},
   "outputs": [],
   "source": [
    "plt.figure(figsize=(10, 8))\n",
    "sns.heatmap(df.corr(numeric_only=True), annot=True, cmap='coolwarm', fmt=\".2f\", linewidths=0.5)\n",
    "plt.title(\"Correlation Heatmap\")\n",
    "plt.show()"
   ]
  },
  {
   "cell_type": "markdown",
   "id": "7540f2b6",
   "metadata": {},
   "source": [
    "### 🔍 Interpretation: Correlation Heatmap\n",
    "- Strong correlations:\n",
    "  - `n_killed` and `n_victims`\n",
    "  - `n_injured` and `n_victims`\n",
    "- Moderate positive correlation between `n_guns_involved` and number of victims\n",
    "- Hypothesis: More guns = more harm"
   ]
  },
  {
   "cell_type": "code",
   "execution_count": null,
   "id": "38526a8b",
   "metadata": {},
   "outputs": [],
   "source": [
    "sns.scatterplot(data=df, x='n_guns_involved', y='n_victims')\n",
    "plt.title(\"Guns Involved vs. Total Victims\")\n",
    "plt.show()\n",
    "\n",
    "sns.scatterplot(data=df, x='n_injured', y='n_killed')\n",
    "plt.title(\"Injured vs. Killed\")\n",
    "plt.show()"
   ]
  },
  {
   "cell_type": "markdown",
   "id": "34d176e3",
   "metadata": {},
   "source": [
    "### 🔍 Interpretation: Scatterplots\n",
    "- Positive trend: More guns = more victims\n",
    "- Injured vs. killed: Related but with variance (injury doesn't always lead to death)\n",
    "- Outliers exist: High deaths with few guns involved"
   ]
  },
  {
   "cell_type": "code",
   "execution_count": null,
   "id": "66346aac",
   "metadata": {},
   "outputs": [],
   "source": [
    "sns.pairplot(df)\n",
    "plt.show()"
   ]
  },
  {
   "cell_type": "markdown",
   "id": "7247c0fa",
   "metadata": {},
   "source": [
    "### 🔍 Interpretation: Pairplot\n",
    "- Variables are right-skewed (especially deaths and injuries)\n",
    "- Most incidents are low-scale; a few mass events distort the distribution\n",
    "- `n_suspects` and `n_unharmed` need more digging"
   ]
  },
  {
   "cell_type": "code",
   "execution_count": null,
   "id": "0a634a1a",
   "metadata": {},
   "outputs": [],
   "source": [
    "plt.figure(figsize=(14, 6))\n",
    "top_states = df.groupby('state')['n_killed'].mean().sort_values(ascending=False).head(10)\n",
    "sns.barplot(x=top_states.index, y=top_states.values)\n",
    "plt.title(\"Top 10 States by Average Deaths per Incident\")\n",
    "plt.ylabel(\"Avg Killed\")\n",
    "plt.xticks(rotation=45)\n",
    "plt.show()"
   ]
  },
  {
   "cell_type": "markdown",
   "id": "5c3df2d9",
   "metadata": {},
   "source": [
    "### 🔍 Interpretation: State-wise Violence\n",
    "- States like Illinois, Louisiana, and Missouri have high average deaths\n",
    "- Potential focus areas for regional policy analysis or clustering later"
   ]
  },
  {
   "cell_type": "markdown",
   "id": "ca46f31f",
   "metadata": {},
   "source": [
    "### 🤔 Hypotheses and Further Questions\n",
    "**Hypotheses:**\n",
    "1. Incidents with more guns involved result in more victims.\n",
    "2. Certain states consistently show higher fatality averages.\n",
    "3. Most gun violence incidents involve few victims; outliers inflate national stats.\n",
    "\n",
    "**New Questions:**\n",
    "- Are multiple suspects associated with higher harm?\n",
    "- Is there a threshold after which gun count stops affecting victim count?\n"
   ]
  }
 ],
 "metadata": {},
 "nbformat": 4,
 "nbformat_minor": 5
}
