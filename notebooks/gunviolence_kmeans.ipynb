{
 "cells": [
  {
   "cell_type": "code",
   "execution_count": null,
   "id": "f89a4eb3",
   "metadata": {},
   "outputs": [],
   "source": [
    "import pandas as pd\n",
    "import matplotlib.pyplot as plt\n",
    "import seaborn as sns\n",
    "from sklearn.preprocessing import StandardScaler\n",
    "from sklearn.cluster import KMeans"
   ]
  },
  {
   "cell_type": "code",
   "execution_count": null,
   "id": "99d17699",
   "metadata": {},
   "outputs": [],
   "source": [
    "df = pd.read_csv(\"cleaned_gunviolence.csv\")\n",
    "df_kmeans = df.drop(columns=[\"Unnamed: 0\", \"incident_id\", \"date\", \"state\"])\n",
    "scaler = StandardScaler()\n",
    "scaled_data = scaler.fit_transform(df_kmeans)"
   ]
  },
  {
   "cell_type": "code",
   "execution_count": null,
   "id": "22a74c84",
   "metadata": {},
   "outputs": [],
   "source": [
    "inertia = []\n",
    "for k in range(1, 11):\n",
    "    kmeans = KMeans(n_clusters=k, random_state=1, n_init=10)\n",
    "    kmeans.fit(scaled_data)\n",
    "    inertia.append(kmeans.inertia_)\n",
    "\n",
    "plt.figure(figsize=(8, 5))\n",
    "plt.plot(range(1, 11), inertia, marker='o')\n",
    "plt.title(\"Elbow Method\")\n",
    "plt.xlabel(\"Number of clusters\")\n",
    "plt.ylabel(\"Inertia\")\n",
    "plt.grid(True)\n",
    "plt.tight_layout()\n",
    "plt.show()"
   ]
  },
  {
   "cell_type": "code",
   "execution_count": null,
   "id": "c625ad66",
   "metadata": {},
   "outputs": [],
   "source": [
    "kmeans = KMeans(n_clusters=3, random_state=1, n_init=10)\n",
    "df[\"cluster\"] = kmeans.fit_predict(scaled_data)"
   ]
  },
  {
   "cell_type": "code",
   "execution_count": null,
   "id": "4f6047e3",
   "metadata": {},
   "outputs": [],
   "source": [
    "plt.figure(figsize=(8, 6))\n",
    "sns.scatterplot(data=df, x=\"n_killed\", y=\"n_injured\", hue=\"cluster\", alpha=0.5)\n",
    "plt.title(\"Clusters by Killed vs Injured\")\n",
    "plt.grid(True)\n",
    "plt.tight_layout()\n",
    "plt.show()\n",
    "\n",
    "plt.figure(figsize=(8, 6))\n",
    "sns.scatterplot(data=df, x=\"n_guns_involved\", y=\"n_victims\", hue=\"cluster\", alpha=0.5)\n",
    "plt.title(\"Clusters by Guns Involved vs Victims\")\n",
    "plt.grid(True)\n",
    "plt.tight_layout()\n",
    "plt.show()"
   ]
  },
  {
   "cell_type": "code",
   "execution_count": null,
   "id": "f3e422ca",
   "metadata": {},
   "outputs": [],
   "source": [
    "cluster_stats = df.groupby(\"cluster\").mean(numeric_only=True).round(2)\n",
    "display(cluster_stats)"
   ]
  },
  {
   "cell_type": "markdown",
   "id": "f7465aee",
   "metadata": {},
   "source": [
    "### Interpretation\n",
    "\n",
    "- **Cluster 0**: small-scale incidents.\n",
    "- **Cluster 1**: moderate incidents with more victims and suspects.\n",
    "- **Cluster 2**: severe incidents (mass shootings, many victims and guns involved).\n",
    "\n",
    "**Cluster usage**:\n",
    "- Severity labeling.\n",
    "- Geographic/temporal trend detection.\n",
    "- Feature in predictive modeling.\n",
    "\n",
    "**Why k=3?**\n",
    "Clear \"elbow\" at k=3; inertia drops less significantly after that point.\n"
   ]
  },
  {
   "cell_type": "code",
   "execution_count": null,
   "id": "0385baf5",
   "metadata": {},
   "outputs": [],
   "source": [
    "df.to_csv(\"gunviolence_clustered.csv\", index=False)"
   ]
  }
 ],
 "metadata": {},
 "nbformat": 4,
 "nbformat_minor": 5
}